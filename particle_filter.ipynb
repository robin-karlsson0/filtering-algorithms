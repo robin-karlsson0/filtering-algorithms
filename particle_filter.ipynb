{
 "cells": [
  {
   "cell_type": "code",
   "execution_count": null,
   "metadata": {},
   "outputs": [],
   "source": [
    "import numpy as np\n",
    "import math\n",
    "import random\n",
    "import matplotlib.pyplot as plt"
   ]
  },
  {
   "cell_type": "markdown",
   "metadata": {},
   "source": [
    "## Generate true state\n",
    "This is the underlying state we want to track but cannot observe directly (i.e. there is measurement noise)."
   ]
  },
  {
   "cell_type": "code",
   "execution_count": null,
   "metadata": {},
   "outputs": [],
   "source": [
    "a = 0.9\n",
    "b = 2.0\n",
    "c = 0.02\n",
    "t_max = 200\n",
    "\n",
    "x = np.linspace(0,3*2*math.pi, t_max)\n",
    "x = (1-a*x)*np.sin(b*x)+c*x*x\n",
    "\n",
    "plt.plot(x)\n",
    "plt.show()"
   ]
  },
  {
   "cell_type": "markdown",
   "metadata": {},
   "source": [
    "# Measurement parameters\n",
    "Higher variance value correspond to a noisier state observation."
   ]
  },
  {
   "cell_type": "code",
   "execution_count": null,
   "metadata": {},
   "outputs": [],
   "source": [
    "meas_sig2 = 1.2"
   ]
  },
  {
   "cell_type": "markdown",
   "metadata": {},
   "source": [
    "# Initialize particles"
   ]
  },
  {
   "cell_type": "code",
   "execution_count": null,
   "metadata": {},
   "outputs": [],
   "source": [
    "n = 200\n",
    "\n",
    "p = np.random.normal(np.random.normal(x[0], meas_sig2,1)[0], meas_sig2, n)\n",
    "\n",
    "print(f\"Initial mean value: {np.mean(p)} (true value: {x[0]})\")\n",
    "plt.hist(p)\n",
    "plt.show()"
   ]
  },
  {
   "cell_type": "markdown",
   "metadata": {},
   "source": [
    "## Tracking\n",
    "Track object which moves along trajectory 'x' every timestep 't'."
   ]
  },
  {
   "cell_type": "code",
   "execution_count": null,
   "metadata": {},
   "outputs": [],
   "source": [
    "# Mean values computed from 'p'\n",
    "mu = []\n",
    "mu.append(np.mean(p))\n",
    "# Timesteps observed\n",
    "t_obs = []\n",
    "t_obs.append(0)\n",
    "# Observed value (measuring 'x')\n",
    "z = []\n",
    "z.append(np.random.normal(x[0], meas_sig2, 1)[0])\n",
    "\n",
    "mu_prev = mu[0]\n",
    "\n",
    "delta_t = 2\n",
    "for t in range(delta_t, t_max, delta_t):\n",
    "    \n",
    "    # Translate particles according to simple kinetic model based on two previous mean states\n",
    "    trans = mu[-1] - mu_prev\n",
    "    p_trans = p + trans\n",
    "    \n",
    "    # Resample from translated particles\n",
    "    p = np.random.normal(p_trans, meas_sig2)\n",
    "\n",
    "    # Observation from measurement\n",
    "    z.append(np.random.normal(x[t], meas_sig2, 1)[0])\n",
    "    \n",
    "    # Weight particles according to observation\n",
    "    w = np.exp( -(p-z[-1])*(p-z[-1]) / (2.0 * meas_sig2)) / math.sqrt(2.0*math.pi*meas_sig2)\n",
    "    w = w / np.sum(w)\n",
    "    \n",
    "    # Resample particles according to weighted distribution\n",
    "    p = np.random.choice(p, n, True, w)\n",
    "    \n",
    "    mu.append(np.mean(p))\n",
    "    mu_prev = mu[-2]\n",
    "    t_obs.append(t)\n",
    "\n",
    "print(x.shape)\n",
    "print(len(mu))\n",
    "print(len(z))"
   ]
  },
  {
   "cell_type": "code",
   "execution_count": null,
   "metadata": {},
   "outputs": [],
   "source": [
    "plt.plot(x)\n",
    "plt.plot(t_obs, mu)\n",
    "plt.plot(t_obs, z, 'rx')\n",
    "plt.show()"
   ]
  }
 ],
 "metadata": {
  "kernelspec": {
   "display_name": "Python 3",
   "language": "python",
   "name": "python3"
  },
  "language_info": {
   "codemirror_mode": {
    "name": "ipython",
    "version": 3
   },
   "file_extension": ".py",
   "mimetype": "text/x-python",
   "name": "python",
   "nbconvert_exporter": "python",
   "pygments_lexer": "ipython3",
   "version": "3.7.3"
  }
 },
 "nbformat": 4,
 "nbformat_minor": 2
}
